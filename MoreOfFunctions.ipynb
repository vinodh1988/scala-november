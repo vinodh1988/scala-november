{
 "cells": [
  {
   "cell_type": "code",
   "execution_count": 11,
   "metadata": {},
   "outputs": [
    {
     "name": "stdout",
     "output_type": "stream",
     "text": [
      "Process Desktop Application X23 has started\n",
      "Process DBSErvice  has started\n",
      "class ammonite.$sess.cell11$Helper$$Lambda/0x0000000126a41aa8\n",
      "class ammonite.$sess.cell11$Helper$$Lambda/0x0000000126a416e0\n"
     ]
    },
    {
     "data": {
      "text/plain": [
       "defined \u001b[32mfunction\u001b[39m \u001b[36mprocess\u001b[39m\n",
       "\u001b[36mtarget\u001b[39m: \u001b[32mString\u001b[39m => \u001b[32mString\u001b[39m = ammonite.$sess.cell11$Helper$$Lambda/0x0000000126a416e0@242a6a12\n",
       "\u001b[36mcopied\u001b[39m: \u001b[32mString\u001b[39m => \u001b[32mString\u001b[39m = ammonite.$sess.cell11$Helper$$Lambda/0x0000000126a41aa8@cd9e56b"
      ]
     },
     "execution_count": 11,
     "metadata": {},
     "output_type": "execute_result"
    }
   ],
   "source": [
    "def process(x: String):String = s\"Process $x has started\"\n",
    "\n",
    "val target = process _ //type is inferred\n",
    "val copied: String=>String = process //copied type is specified\n",
    "\n",
    "println(target(\"Desktop Application X23\"))\n",
    "println(copied(\"DBSErvice \"))\n",
    "println(copied.getClass)\n",
    "println(target.getClass)"
   ]
  },
  {
   "cell_type": "code",
   "execution_count": 1,
   "metadata": {},
   "outputs": [
    {
     "data": {
      "text/plain": [
       "defined \u001b[32mfunction\u001b[39m \u001b[36mcallMeIWillSendYouThatManyTimes\u001b[39m"
      ]
     },
     "execution_count": 1,
     "metadata": {},
     "output_type": "execute_result"
    }
   ],
   "source": [
    "def callMeIWillSendYouThatManyTimes(times: Int, method: (String)=> Unit) = {\n",
    "    for(i <- 1 to times)\n",
    "    {\n",
    "        println(\"In the original function call\")\n",
    "        method(\"India \"+i)\n",
    "        println(\"Back to the original call\")\n",
    "    }\n",
    "    println(\"done\")\n",
    "}"
   ]
  },
  {
   "cell_type": "code",
   "execution_count": 4,
   "metadata": {},
   "outputs": [
    {
     "name": "stdout",
     "output_type": "stream",
     "text": [
      "In the original function call\n",
      "User is processing India 1\n",
      "Back to the original call\n",
      "In the original function call\n",
      "User is processing India 2\n",
      "Back to the original call\n",
      "In the original function call\n",
      "User is processing India 3\n",
      "Back to the original call\n",
      "In the original function call\n",
      "User is processing India 4\n",
      "Back to the original call\n",
      "In the original function call\n",
      "User is processing India 5\n",
      "Back to the original call\n",
      "done\n",
      "In the original function call\n",
      "lambda processing India 1\n",
      "Back to the original call\n",
      "In the original function call\n",
      "lambda processing India 2\n",
      "Back to the original call\n",
      "In the original function call\n",
      "lambda processing India 3\n",
      "Back to the original call\n",
      "In the original function call\n",
      "lambda processing India 4\n",
      "Back to the original call\n",
      "In the original function call\n",
      "lambda processing India 5\n",
      "Back to the original call\n",
      "done\n"
     ]
    },
    {
     "data": {
      "text/plain": [
       "defined \u001b[32mfunction\u001b[39m \u001b[36mgetTheData\u001b[39m"
      ]
     },
     "execution_count": 4,
     "metadata": {},
     "output_type": "execute_result"
    }
   ],
   "source": [
    "def getTheData(data: String): Unit = {\n",
    "    println(s\"User is processing $data\")\n",
    "}\n",
    "\n",
    "callMeIWillSendYouThatManyTimes(5,getTheData)\n",
    "callMeIWillSendYouThatManyTimes(5,(x)=>println(s\"lambda processing $x\"))"
   ]
  },
  {
   "cell_type": "code",
   "execution_count": 7,
   "metadata": {},
   "outputs": [
    {
     "name": "stdout",
     "output_type": "stream",
     "text": [
      "0\n",
      "1\n",
      "2\n",
      "3\n",
      "4\n",
      "01234"
     ]
    },
    {
     "data": {
      "text/plain": [
       "\u001b[36marr\u001b[39m: \u001b[32mArray\u001b[39m[\u001b[32mInt\u001b[39m] = \u001b[33mArray\u001b[39m(\u001b[32m0\u001b[39m, \u001b[32m1\u001b[39m, \u001b[32m2\u001b[39m, \u001b[32m3\u001b[39m, \u001b[32m4\u001b[39m)"
      ]
     },
     "execution_count": 7,
     "metadata": {},
     "output_type": "execute_result"
    }
   ],
   "source": [
    "val arr=Array.fill(5)(0);\n",
    "for(x<- 0 to arr.length-1){\n",
    "    arr(x)=x\n",
    "    println(x);\n",
    "}\n",
    "for(a<-arr)\n",
    "   print(arr(a))"
   ]
  },
  {
   "cell_type": "code",
   "execution_count": 9,
   "metadata": {},
   "outputs": [
    {
     "data": {
      "text/plain": [
       "defined \u001b[32mfunction\u001b[39m \u001b[36mfilterIt\u001b[39m"
      ]
     },
     "execution_count": 9,
     "metadata": {},
     "output_type": "execute_result"
    }
   ],
   "source": [
    "def filterIt(elements:Array[Int],logic: Int=>Boolean): Array[Int] = {\n",
    "    var a: Int=0;\n",
    "    var count: Int=0;\n",
    "    for(data<-elements){\n",
    "        if(logic(data))\n",
    "            {\n",
    "                count+=1;\n",
    "            }\n",
    "    }\n",
    "    val arr=Array.fill(count)(0)\n",
    "    for(data<-elements){\n",
    "        if(logic(data))\n",
    "            {\n",
    "                arr(a)=data \n",
    "                a+=1\n",
    "            }\n",
    "    }\n",
    "    return arr\n",
    "}"
   ]
  },
  {
   "cell_type": "code",
   "execution_count": 14,
   "metadata": {},
   "outputs": [
    {
     "name": "stdout",
     "output_type": "stream",
     "text": [
      "453->645->645->6->4545->45->\n",
      "453->464->"
     ]
    },
    {
     "data": {
      "text/plain": [
       "\u001b[36mnumarray\u001b[39m: \u001b[32mArray\u001b[39m[\u001b[32mInt\u001b[39m] = \u001b[33mArray\u001b[39m(\n",
       "  \u001b[32m40\u001b[39m,\n",
       "  \u001b[32m641\u001b[39m,\n",
       "  \u001b[32m6452\u001b[39m,\n",
       "  \u001b[32m453\u001b[39m,\n",
       "  \u001b[32m4546\u001b[39m,\n",
       "  \u001b[32m464\u001b[39m,\n",
       "  \u001b[32m645\u001b[39m,\n",
       "  \u001b[32m645\u001b[39m,\n",
       "  \u001b[32m6\u001b[39m,\n",
       "  \u001b[32m4545\u001b[39m,\n",
       "  \u001b[32m45\u001b[39m\n",
       ")\n",
       "\u001b[36mresult\u001b[39m: \u001b[32mArray\u001b[39m[\u001b[32mInt\u001b[39m] = \u001b[33mArray\u001b[39m(\u001b[32m453\u001b[39m, \u001b[32m645\u001b[39m, \u001b[32m645\u001b[39m, \u001b[32m6\u001b[39m, \u001b[32m4545\u001b[39m, \u001b[32m45\u001b[39m)\n",
       "\u001b[36mresult1\u001b[39m: \u001b[32mArray\u001b[39m[\u001b[32mInt\u001b[39m] = \u001b[33mArray\u001b[39m(\u001b[32m453\u001b[39m, \u001b[32m464\u001b[39m)"
      ]
     },
     "execution_count": 14,
     "metadata": {},
     "output_type": "execute_result"
    }
   ],
   "source": [
    "val numarray: Array[Int] = Array(40, 641, 6452, 453, 4546,464,645,645,6,4545,45)\n",
    "\n",
    "val result:Array[Int]=filterIt(numarray,(x)=> x%3==0)\n",
    "\n",
    "val result1:Array[Int]=filterIt(numarray,(x)=>  x>=100 && x<=500 )\n",
    "\n",
    "for(x<-result)\n",
    "   print(s\"$x->\")\n",
    "\n",
    "println()\n",
    "for(x<-result1)\n",
    "   print(s\"$x->\")"
   ]
  }
 ],
 "metadata": {
  "kernelspec": {
   "display_name": "Scala",
   "language": "scala",
   "name": "scala"
  },
  "language_info": {
   "codemirror_mode": "text/x-scala",
   "file_extension": ".sc",
   "mimetype": "text/x-scala",
   "name": "scala",
   "nbconvert_exporter": "script",
   "version": "2.13.12"
  }
 },
 "nbformat": 4,
 "nbformat_minor": 2
}
