{
 "cells": [
  {
   "cell_type": "code",
   "execution_count": 4,
   "metadata": {},
   "outputs": [
    {
     "name": "stdout",
     "output_type": "stream",
     "text": [
      "400"
     ]
    },
    {
     "data": {
      "text/plain": [
       "defined \u001b[32mfunction\u001b[39m \u001b[36mgiveMeLogic\u001b[39m"
      ]
     },
     "execution_count": 4,
     "metadata": {},
     "output_type": "execute_result"
    }
   ],
   "source": [
    "def giveMeLogic():(Int)=>Int =  (x) => x*x \n",
    "\n",
    "print(giveMeLogic()(20))"
   ]
  },
  {
   "cell_type": "code",
   "execution_count": 15,
   "metadata": {},
   "outputs": [
    {
     "name": "stdout",
     "output_type": "stream",
     "text": [
      "25"
     ]
    },
    {
     "data": {
      "text/plain": [
       "defined \u001b[32mfunction\u001b[39m \u001b[36mgiveMeDeepLogic\u001b[39m"
      ]
     },
     "execution_count": 15,
     "metadata": {},
     "output_type": "execute_result"
    },
    {
     "ename": "",
     "evalue": "",
     "output_type": "error",
     "traceback": [
      "\u001b[1;31mThe Kernel crashed while executing code in the current cell or a previous cell. \n",
      "\u001b[1;31mPlease review the code in the cell(s) to identify a possible cause of the failure. \n",
      "\u001b[1;31mClick <a href='https://aka.ms/vscodeJupyterKernelCrash'>here</a> for more info. \n",
      "\u001b[1;31mView Jupyter <a href='command:jupyter.viewOutput'>log</a> for further details."
     ]
    }
   ],
   "source": [
    "def giveMeDeepLogic():()=>(Int)=>(Int) = giveMeLogic\n",
    "\n",
    "print(giveMeDeepLogic()()(5))"
   ]
  },
  {
   "cell_type": "code",
   "execution_count": 1,
   "metadata": {},
   "outputs": [
    {
     "name": "stdout",
     "output_type": "stream",
     "text": [
      "105"
     ]
    },
    {
     "data": {
      "text/plain": [
       "defined \u001b[32mfunction\u001b[39m \u001b[36mprocess\u001b[39m\n",
       "defined \u001b[32mfunction\u001b[39m \u001b[36mprocessLayer1\u001b[39m"
      ]
     },
     "execution_count": 1,
     "metadata": {},
     "output_type": "execute_result"
    }
   ],
   "source": [
    "def  process(x:Int): Int =  x+100\n",
    "\n",
    "def  processLayer1(x:Int): Int = process(x) //return value is return value of process\n",
    "\n",
    "print(processLayer1(5))\n"
   ]
  },
  {
   "cell_type": "code",
   "execution_count": 2,
   "metadata": {},
   "outputs": [
    {
     "name": "stdout",
     "output_type": "stream",
     "text": [
      "1530\n"
     ]
    },
    {
     "data": {
      "text/plain": [
       "defined \u001b[32mfunction\u001b[39m \u001b[36mgiveMeCode\u001b[39m"
      ]
     },
     "execution_count": 2,
     "metadata": {},
     "output_type": "execute_result"
    }
   ],
   "source": [
    "def giveMeCode(ops:String ): (Int,Int)=>Int = {\n",
    "    ops match {\n",
    "        case \"add\" =>  (a,b)=>a+b\n",
    "        case \"mul\" =>  (a,b)=>a*b\n",
    "        case \"sub\" =>  (a,b)=>a-b\n",
    "        case _ =>   (a,b)=> -1\n",
    "    }\n",
    "}\n",
    "\n",
    "println(giveMeCode(\"mul\")(34,45))"
   ]
  },
  {
   "cell_type": "code",
   "execution_count": 3,
   "metadata": {},
   "outputs": [
    {
     "name": "stdout",
     "output_type": "stream",
     "text": [
      "inside inner data is 30 and outerscope data is 35\n",
      "inside inner data is 40 and outerscope data is 75\n",
      "inside inner data is 50 and outerscope data is 125\n"
     ]
    },
    {
     "data": {
      "text/plain": [
       "defined \u001b[32mfunction\u001b[39m \u001b[36mwrapper\u001b[39m"
      ]
     },
     "execution_count": 3,
     "metadata": {},
     "output_type": "execute_result"
    }
   ],
   "source": [
    "def wrapper(outer: Int):Unit = {\n",
    "var outerscope=outer\n",
    "    def inner(data: Int): String = {\n",
    "        //outer=outer+20\n",
    "        outerscope=outerscope+data\n",
    "        println(s\"inside inner data is $data and outerscope data is $outerscope\")\n",
    "        return \"InnerFinished\"\n",
    "    }\n",
    "   inner(30)\n",
    "   inner(40)\n",
    "   inner(50)\n",
    "}\n",
    "\n",
    "wrapper(5)"
   ]
  },
  {
   "cell_type": "code",
   "execution_count": 9,
   "metadata": {},
   "outputs": [
    {
     "name": "stdout",
     "output_type": "stream",
     "text": [
      "inside inner data is 30 and outerscope data is 40\n",
      "inside inner data is 40 and outerscope data is 80\n",
      "inside inner data is 50 and outerscope data is 130\n"
     ]
    },
    {
     "data": {
      "text/plain": [
       "defined \u001b[32mfunction\u001b[39m \u001b[36mwrapper\u001b[39m\n",
       "\u001b[36mnested\u001b[39m: \u001b[32mInt\u001b[39m => \u001b[32mString\u001b[39m = ammonite.$sess.cell9$Helper$$Lambda/0x000000012e90f3e8@28cd2e89\n",
       "\u001b[36mres9_2\u001b[39m: \u001b[32mString\u001b[39m = \u001b[32m\"InnerFinished\"\u001b[39m\n",
       "\u001b[36mres9_3\u001b[39m: \u001b[32mString\u001b[39m = \u001b[32m\"InnerFinished\"\u001b[39m\n",
       "\u001b[36mres9_4\u001b[39m: \u001b[32mString\u001b[39m = \u001b[32m\"InnerFinished\"\u001b[39m"
      ]
     },
     "execution_count": 9,
     "metadata": {},
     "output_type": "execute_result"
    }
   ],
   "source": [
    "def wrapper(outer: Int):(Int)=>String = {\n",
    "var outerscope=outer\n",
    "    def inner(data: Int): String = {\n",
    "        //outer=outer+20\n",
    "        outerscope=outerscope+data\n",
    "        println(s\"inside inner data is $data and outerscope data is $outerscope\")\n",
    "        return \"InnerFinished\"\n",
    "    }\n",
    "    inner\n",
    "}\n",
    "\n",
    "val nested=wrapper(10)\n",
    "nested(30)\n",
    "nested(40)\n",
    "nested(80)"
   ]
  },
  {
   "cell_type": "code",
   "execution_count": 11,
   "metadata": {},
   "outputs": [
    {
     "name": "stdout",
     "output_type": "stream",
     "text": [
      "15\n",
      "info:Data15, n:India,  p: India Today\n"
     ]
    },
    {
     "data": {
      "text/plain": [
       "defined \u001b[32mfunction\u001b[39m \u001b[36mfunction1\u001b[39m\n",
       "defined \u001b[32mfunction\u001b[39m \u001b[36mfunction2\u001b[39m"
      ]
     },
     "execution_count": 11,
     "metadata": {},
     "output_type": "execute_result"
    }
   ],
   "source": [
    "def function1(x:Int, fun: String=>Unit): Unit = {\n",
    "    println(x)\n",
    "    fun(\"Data\"+x)\n",
    "}\n",
    "\n",
    "def function2(p:String): Unit = {\n",
    "    val n:String=\"India\"\n",
    "    function1(15, (info)=>{\n",
    "        println(s\"info:$info, n:$n,  p: $p\")\n",
    "    })\n",
    "}\n",
    "\n",
    "function2(\"India Today\")"
   ]
  },
  {
   "cell_type": "code",
   "execution_count": 26,
   "metadata": {},
   "outputs": [
    {
     "name": "stdout",
     "output_type": "stream",
     "text": [
      " Baked cake ready for Strawberry Cream topping\n",
      "Added the Topping Strawberry Cream\n",
      " Baked pizza ready for Olives topping\n",
      "Added the Topping Olives\n",
      " Baked Cake ready for Chocolate topping\n",
      "Added the Topping Chocolate\n"
     ]
    },
    {
     "data": {
      "text/plain": [
       "\u001b[36maddTopping\u001b[39m: \u001b[32mString\u001b[39m => \u001b[32mUnit\u001b[39m = ammonite.$sess.cell26$Helper$$Lambda/0x000000012e97cf90@57697664\n",
       "\u001b[36mbake\u001b[39m: (\u001b[32mString\u001b[39m, \u001b[32mString\u001b[39m) => \u001b[32mString\u001b[39m = ammonite.$sess.cell26$Helper$$Lambda/0x000000012e97d350@2a39adfd\n",
       "\u001b[36mcakeBake\u001b[39m: \u001b[32mString\u001b[39m => \u001b[32mString\u001b[39m = ammonite.$sess.cell26$Helper$$Lambda/0x000000012e97d8f0@6fb966a8\n",
       "\u001b[36mpizzaBake\u001b[39m: \u001b[32mString\u001b[39m => \u001b[32mString\u001b[39m = ammonite.$sess.cell26$Helper$$Lambda/0x000000012e97dcb8@3d4a5ed2\n",
       "\u001b[36mcakePreperation\u001b[39m: \u001b[32mString\u001b[39m => \u001b[32mUnit\u001b[39m = scala.Function1$$Lambda/0x000000012e96c000@153671ef\n",
       "\u001b[36mpizzaPreperation\u001b[39m: \u001b[32mString\u001b[39m => \u001b[32mUnit\u001b[39m = scala.Function1$$Lambda/0x000000012e96c000@7aafb731\n",
       "\u001b[36mbakingProcess\u001b[39m: ((\u001b[32mString\u001b[39m, \u001b[32mString\u001b[39m)) => \u001b[32mUnit\u001b[39m = scala.Function1$$Lambda/0x000000012e96c000@6f210683"
      ]
     },
     "execution_count": 26,
     "metadata": {},
     "output_type": "execute_result"
    }
   ],
   "source": [
    "val  addTopping = (result: String) => {\n",
    "\n",
    "    println(s\"Added the Topping $result\")\n",
    "} \n",
    "val  bake= (ftype: String, topping: String) => \n",
    "    {\n",
    "    \n",
    "        println(s\" Baked $ftype ready for $topping topping\")\n",
    "        topping\n",
    "    }\n",
    "\n",
    "val cakeBake= bake(\"cake\",_: String)\n",
    "val pizzaBake = bake(\"pizza\",_: String)\n",
    "    \n",
    "val cakePreperation = cakeBake andThen addTopping\n",
    "val pizzaPreperation = pizzaBake andThen addTopping\n",
    "\n",
    "cakePreperation(\"Strawberry Cream\")\n",
    "pizzaPreperation(\"Olives\")\n",
    "\n",
    "val bakingProcess = bake.tupled andThen addTopping\n",
    "bakingProcess(\"Cake\", \"Chocolate\")\n"
   ]
  },
  {
   "cell_type": "code",
   "execution_count": null,
   "metadata": {},
   "outputs": [],
   "source": []
  },
  {
   "cell_type": "code",
   "execution_count": 18,
   "metadata": {},
   "outputs": [
    {
     "name": "stdout",
     "output_type": "stream",
     "text": [
      "67"
     ]
    },
    {
     "data": {
      "text/plain": [
       "\u001b[36mmultiplyByTwo\u001b[39m: \u001b[32mInt\u001b[39m => \u001b[32mInt\u001b[39m = ammonite.$sess.cell18$Helper$$Lambda/0x000000012e966578@7c4aae84\n",
       "\u001b[36maddOne\u001b[39m: \u001b[32mInt\u001b[39m => \u001b[32mInt\u001b[39m = ammonite.$sess.cell18$Helper$$Lambda/0x000000012e966958@ef4ac3\n",
       "\u001b[36mresult\u001b[39m: \u001b[32mInt\u001b[39m => \u001b[32mInt\u001b[39m = scala.Function1$$Lambda/0x000000012e96c000@351a6772"
      ]
     },
     "execution_count": 18,
     "metadata": {},
     "output_type": "execute_result"
    }
   ],
   "source": [
    "val  multiplyByTwo= (x: Int) => x * 2\n",
    "val  addOne = (x: Int) => x + 1\n",
    "\n",
    "val result = multiplyByTwo andThen addOne\n",
    "\n",
    "print(result(33))"
   ]
  },
  {
   "cell_type": "code",
   "execution_count": 12,
   "metadata": {},
   "outputs": [
    {
     "data": {
      "text/plain": [
       "\u001b[36msquare\u001b[39m: \u001b[32mInt\u001b[39m => \u001b[32mInt\u001b[39m = ammonite.$sess.cell12$Helper$$Lambda/0x000000012e925b80@652d57b6"
      ]
     },
     "execution_count": 12,
     "metadata": {},
     "output_type": "execute_result"
    }
   ],
   "source": [
    "val square: (Int)=> Int = x=>x*x"
   ]
  },
  {
   "cell_type": "code",
   "execution_count": 27,
   "metadata": {},
   "outputs": [
    {
     "name": "stderr",
     "output_type": "stream",
     "text": [
      "cell27.sc:1: object Properties is not a member of package ammonite.util\n",
      "val res27 = print(util.Properties.versionNumberString)\n",
      "                       ^\n",
      "Compilation Failed"
     ]
    }
   ],
   "source": []
  }
 ],
 "metadata": {
  "kernelspec": {
   "display_name": "Scala",
   "language": "scala",
   "name": "scala"
  },
  "language_info": {
   "codemirror_mode": "text/x-scala",
   "file_extension": ".sc",
   "mimetype": "text/x-scala",
   "name": "scala",
   "nbconvert_exporter": "script",
   "version": "2.13.12"
  }
 },
 "nbformat": 4,
 "nbformat_minor": 2
}
