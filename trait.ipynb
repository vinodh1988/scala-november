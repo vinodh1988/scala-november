{
 "cells": [
  {
   "cell_type": "code",
   "execution_count": 6,
   "metadata": {},
   "outputs": [
    {
     "name": "stdout",
     "output_type": "stream",
     "text": [
      "Pizza Preperation Started\n",
      "Apply As much Sauce as you can\n",
      "Applying Musshroom topping\n",
      "Pizza Preperation Started\n",
      "Apply As much Sauce as you can\n",
      "Applying Chicken topping\n"
     ]
    },
    {
     "data": {
      "text/plain": [
       "defined \u001b[32mtrait\u001b[39m \u001b[36mPizza\u001b[39m\n",
       "defined \u001b[32mtrait\u001b[39m \u001b[36mSaucing\u001b[39m\n",
       "defined \u001b[32mtrait\u001b[39m \u001b[36mMushroomTopping\u001b[39m\n",
       "defined \u001b[32mtrait\u001b[39m \u001b[36mChickenTopping\u001b[39m\n",
       "defined \u001b[32mclass\u001b[39m \u001b[36mPizzaMaking\u001b[39m\n",
       "\u001b[36mobj\u001b[39m: \u001b[32mPizzaMaking\u001b[39m = ammonite.$sess.cell6$Helper$$anon$1@473f22d8\n",
       "\u001b[36mobj1\u001b[39m: \u001b[32mPizzaMaking\u001b[39m = ammonite.$sess.cell6$Helper$$anon$2@2da8311e"
      ]
     },
     "execution_count": 6,
     "metadata": {},
     "output_type": "execute_result"
    }
   ],
   "source": [
    "trait Pizza\n",
    "{\n",
    "    def prepare: Unit\n",
    "}\n",
    "trait Saucing extends Pizza {\n",
    "    abstract override def prepare: Unit = {\n",
    "        super.prepare\n",
    "        println(\"Apply As much Sauce as you can\")\n",
    "    }\n",
    "}\n",
    "\n",
    "trait MushroomTopping extends Saucing {\n",
    "    abstract override def prepare:Unit = {\n",
    "        super.prepare\n",
    "        println(\"Applying Musshroom topping\")\n",
    "    }\n",
    "}\n",
    "\n",
    "\n",
    "trait ChickenTopping extends Saucing {\n",
    "    abstract override def prepare:Unit = {\n",
    "        super.prepare\n",
    "        println(\"Applying Chicken topping\")\n",
    "    }\n",
    "}\n",
    "\n",
    "class PizzaMaking extends Pizza{\n",
    "      def prepare:Unit ={\n",
    "          println(\"Pizza Preperation Started\")\n",
    "      }\n",
    "}\n",
    "\n",
    "//val obj:PizzaMaking =new PizzaMaking \n",
    "val obj:PizzaMaking = new PizzaMaking with MushroomTopping \n",
    "val obj1:PizzaMaking = new PizzaMaking with ChickenTopping \n",
    "obj.prepare\n",
    "obj1.prepare"
   ]
  }
 ],
 "metadata": {
  "kernelspec": {
   "display_name": "Scala",
   "language": "scala",
   "name": "scala"
  },
  "language_info": {
   "codemirror_mode": "text/x-scala",
   "file_extension": ".sc",
   "mimetype": "text/x-scala",
   "name": "scala",
   "nbconvert_exporter": "script",
   "version": "2.13.12"
  }
 },
 "nbformat": 4,
 "nbformat_minor": 2
}
